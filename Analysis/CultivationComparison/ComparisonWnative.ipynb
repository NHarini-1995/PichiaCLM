{
 "cells": [
  {
   "cell_type": "code",
   "execution_count": 1,
   "id": "c4098051",
   "metadata": {},
   "outputs": [],
   "source": [
    "import numpy as np\n",
    "from scipy import stats\n",
    "import pandas as pd\n",
    "import matplotlib.pyplot as plt"
   ]
  },
  {
   "cell_type": "code",
   "execution_count": 2,
   "id": "314bd2e5",
   "metadata": {},
   "outputs": [],
   "source": [
    "MoleculeList = [ 'hGCSF','hGH','MSA','BSA','HSA'] #, 'HSA', 'Her'\n",
    "\n",
    "\n",
    "Folder_List = {  '3B2': './3B2/Plates', 'RBD': './RBDJ/Plates','hGH': './hGH/Plates',\n",
    "              'hGCSF': './hGCSF/sHN49to57_64_89', 'HerA': './HerA/Plates','HSA': './HSA/Plates',\n",
    "              'MSA': './MSA/Plates', 'BSA':'./BSA/Plates'} #'HSA': '/HSA/Plates', 'Her': 'HSA/sHN10to23', ,\n",
    "\n",
    "Nr_list = { '3B2': [5], 'RBD': [5],'hGH': [6],'hGCSF': [5], 'HerA': [6],\n",
    "               'HSA': [4], 'MSA': [2], 'BSA': [3]} # 'Her': 'HSA/sHN10to23',\n",
    "\n",
    "version = {'3B2': ['V5'], 'RBD': ['V5'], 'hGH': ['V6'],'hGCSF': ['V5'],'HerA': ['V6'], 'HSA': ['V4'],\n",
    "          'MSA': ['V2'], 'BSA': ['V3']}\n",
    "\n",
    "Strain_ID = {'hGH': [44, 42], # + [63, 88] \n",
    "             'hGCSF': [53, 51], #+ [64, 89],\n",
    "            'HSA': [2], \n",
    "             'MSA': [104, 107],\n",
    "            'BSA': [70, 69]} #59,\n",
    "\n",
    "cod_type = {}\n",
    "\n",
    "cod_type['hGH'] = [  'Native','Arch1']\n",
    "cod_type['hGCSF'] = ['Native' ,' Arch1']\n",
    "cod_type['HSA'] = ['Native' ,' Arch1']\n",
    "cod_type['MSA'] = ['Native' ,' Arch1']\n",
    "cod_type['BSA'] = ['Native' ,' Arch1']"
   ]
  },
  {
   "cell_type": "markdown",
   "id": "f7e545d6",
   "metadata": {},
   "source": [
    "## SP"
   ]
  },
  {
   "cell_type": "code",
   "execution_count": null,
   "id": "b6bb88a1",
   "metadata": {},
   "outputs": [],
   "source": [
    "Property = { 'hGCSF': 'SP','hGH': 'SP','HSA':'SP'}  \n",
    "Nr = len(Nr_list)\n",
    "\n",
    "\n",
    "Data = {}\n",
    "Data_Grouped = {}\n",
    "for m in MoleculeList:\n",
    "    Data[m] = {}\n",
    "    Data_Grouped[m]= {}\n",
    "    for r in Nr_list[m]:\n",
    "        Data[m][r] = pd.read_excel(Folder_List[m]+\"/Titer_OD_Plate.xlsx\", version[m][0])\n",
    "        Data_Grouped[m][r] = {}\n",
    "        Uniq_Exp = Data[m][r].iloc[:,0].unique() \n",
    "        for i in Uniq_Exp:\n",
    "            Data_Grouped[m][r][i] = Data[m][r].loc[Data[m][r].iloc[:,0] == i, :]\n",
    "\n",
    "# NameList = pd.read_excel(\"NameList.xlsx\")\n",
    "\n",
    "Avg_titer = {}\n",
    "Avg_SP = {}\n",
    "Data_collect = {}\n",
    "\n",
    "\n",
    "for m in MoleculeList:\n",
    "    cnt_r = 0\n",
    "    Avg_titer[m] = {}\n",
    "    Avg_SP[m] = {}\n",
    "    Data_collect[m] = {}\n",
    "    for r in Nr_list[m]:\n",
    "        Avg_titer[m][r] = []\n",
    "        Avg_SP[m][r] = []\n",
    "        Data_collect[m] = {}\n",
    "        for i in Strain_ID[m]:\n",
    "            try:\n",
    "                Avg_titer[m][r].append(np.mean(Data_Grouped[m][r]['sHN'+str(i)]['Titer']))\n",
    "                Avg_SP[m][r].append(np.mean(Data_Grouped[m][r]['sHN'+str(i)][Property[m]]))\n",
    "                if cnt_r == 0:\n",
    "                    Data_collect[m][i] =  Data_Grouped[m][r]['sHN'+str(i)][Property[m]].values\n",
    "                else:\n",
    "                    Data_collect[m][i] = np.concatenate((Data_collect[m][i], \n",
    "                                                         Data_Grouped[m][r]['sHN'+str(i)][Property[m]].values), axis = 0)\n",
    "\n",
    "            except KeyError:\n",
    "                Avg_titer[m][r].append(np.nan)\n",
    "                Avg_SP[m][r].append(np.nan)\n",
    "                if cnt_r == 0:\n",
    "                    Data_collect[m][i] = np.nan*np.ones((Data_Grouped[m][r]['sHN'+str(Strain_ID[m][0])][Property[m]].shape[0],))\n",
    "                else:\n",
    "                    Data_collect[m][i] = np.concatenate((Data_collect[m][i], \n",
    "                                                         np.nan*np.ones((Data_Grouped[m][r]['sHN'+str(Strain_ID[m][0])][Property[m]].shape[0],))), axis = 0)\n",
    "\n",
    "                continue\n",
    "            \n",
    "        if m == 'HerA': \n",
    "            Avg_titer['HerA'][r].append(np.mean(Data_Grouped['HerA'][r]['S1312']['Titer']))\n",
    "            Avg_SP['HerA'][r].append(np.mean(Data_Grouped['HerA'][r]['S1312'][Property['HerA']]))\n",
    "            if cnt_r == 0:\n",
    "                Data_collect['HerA']['S1312'] =  Data_Grouped['HerA'][r]['S1312'][Property['HerA']].values\n",
    "            else:\n",
    "                Data_collect['HerA']['S1312'] = np.concatenate((Data_collect['HerA'][i], \n",
    "                                                             Data_Grouped['HerA'][r]['S1312'][Property['HerA']].values), axis = 0)\n",
    "        if m == 'HSA': \n",
    "            Avg_titer['HSA'][r].append(np.mean(Data_Grouped['HSA'][r]['S1311']['Titer']))\n",
    "            Avg_SP['HSA'][r].append(np.mean(Data_Grouped['HSA'][r]['S1311'][Property['HSA']]))\n",
    "            if cnt_r == 0:\n",
    "                Data_collect['HSA']['S1311'] =  Data_Grouped['HSA'][r]['S1311'][Property['HSA']].values\n",
    "            else:\n",
    "                Data_collect['HSA']['S1311'] = np.concatenate((Data_Grouped['HSA'][r]['S1311'][Property['HSA']].values,\n",
    "                                                              Data_collect['HSA'][i]), axis = 0)\n",
    "    \n",
    "    cnt_r = cnt_r + 1"
   ]
  },
  {
   "cell_type": "code",
   "execution_count": null,
   "id": "793468a9",
   "metadata": {},
   "outputs": [],
   "source": [
    "params = {'axes.titlesize': 20, 'xtick.labelsize': 20, 'ytick.labelsize': 20, 'axes.labelsize': 20}\n",
    "hfont = {'fontname':'Arial'} #, 'weight' : 'bold'\n",
    "plt.rcParams.update(params)\n",
    "plt.rcParams[\"figure.figsize\"] = (10, 3)\n",
    "f, ax = plt.subplots(1, 3)\n",
    "\n",
    "x = [[0, 0, 0], [0.5, 0.5, 0.5]]\n",
    "x_new = [[0.5, 0.5, 0.5], [0, 0, 0]]\n",
    "for i in range(3):\n",
    "    m = MoleculeList[i]\n",
    "    r = Nr_list[m]\n",
    "    if m == 'HSA':\n",
    "        barlist = ax[i].bar([0.5 , 0], Avg_SP[m][r[0]], width = 0.2,facecolor= 'gray', alpha = 1)\n",
    "        ax[i].scatter(x_new,np.transpose(pd.DataFrame(Data_collect[m]).values) ,100, 'k')\n",
    "        ax[i].set_yticks(np.arange(0, 10, 3),**hfont)\n",
    "        ax[i].set_yticklabels(np.arange(0, 10, 3),**hfont)\n",
    "        for bl in [0]:\n",
    "            barlist[bl].set_color('firebrick')#'rosybrown'\n",
    "    else:\n",
    "        \n",
    "        if i == 0:\n",
    "            barlist = ax[i].bar([0 , 0.5], Avg_SP[m][r[0]], width = 0.2,facecolor= 'gray')\n",
    "            ax[i].set_ylabel('Specific Productivity \\n [mg/L/OD600]', **hfont)\n",
    "            for bl in [1]:\n",
    "                barlist[bl].set_color('firebrick')#'rosybrown'\n",
    "        else:\n",
    "            barlist = ax[i].bar([0 , 0.5], Avg_SP[m][r[0]], width = 0.2,facecolor= 'gray', alpha = 1)\n",
    "            for bl in [1]:\n",
    "                barlist[bl].set_color('firebrick')#'rosybrown'\n",
    "        \n",
    "        ax[i].scatter(x,np.transpose(pd.DataFrame(Data_collect[m]).values) ,100, 'k')\n",
    "        if m == 'hGH':\n",
    "            ax[i].set_yticks(np.arange(0, 22, 5),**hfont)\n",
    "            ax[i].set_yticklabels(np.arange(0, 22, 5),**hfont)\n",
    "        elif m == 'hGCSF':\n",
    "            ax[i].set_yticks(np.arange(0, 10, 3),**hfont)\n",
    "            ax[i].set_yticklabels(np.arange(0, 10, 3),**hfont)\n",
    "    \n",
    "    ax[i].set_xticks([0, 0.5], **hfont)\n",
    "    ax[i].set_xticklabels(['Native', 'Picha-CLM'], rotation = 45, **hfont)\n",
    "    \n",
    "plt.savefig(\"Comparison_w_Native.pdf\", dpi = 300, bbox_inches = \"tight\")  "
   ]
  },
  {
   "cell_type": "markdown",
   "id": "ed8a2365",
   "metadata": {},
   "source": [
    "### Titer"
   ]
  },
  {
   "cell_type": "code",
   "execution_count": 3,
   "id": "9d5e0002",
   "metadata": {},
   "outputs": [],
   "source": [
    "Property = { 'hGCSF': 'Titer','hGH': 'Titer','HSA':'Titer', 'MSA': 'Titer', 'BSA': 'Titer'}  \n",
    "Nr = len(Nr_list)\n",
    "\n",
    "\n",
    "Data = {}\n",
    "Data_Grouped = {}\n",
    "for m in MoleculeList:\n",
    "    Data[m] = {}\n",
    "    Data_Grouped[m]= {}\n",
    "    for r in Nr_list[m]:\n",
    "        Data[m][r] = pd.read_excel(Folder_List[m]+\"/Titer_OD_Plate.xlsx\", version[m][0])\n",
    "        Data_Grouped[m][r] = {}\n",
    "        Uniq_Exp = Data[m][r].iloc[:,0].unique() \n",
    "        for i in Uniq_Exp:\n",
    "            Data_Grouped[m][r][i] = Data[m][r].loc[Data[m][r].iloc[:,0] == i, :]\n",
    "\n",
    "# NameList = pd.read_excel(\"NameList.xlsx\")\n",
    "\n",
    "Avg_titer = {}\n",
    "Avg_SP = {}\n",
    "Data_collect = {}\n",
    "\n",
    "\n",
    "for m in MoleculeList:\n",
    "    cnt_r = 0\n",
    "    Avg_titer[m] = {}\n",
    "    Avg_SP[m] = {}\n",
    "    Data_collect[m] = {}\n",
    "    for r in Nr_list[m]:\n",
    "        Avg_titer[m][r] = []\n",
    "        Avg_SP[m][r] = []\n",
    "        Data_collect[m] = {}\n",
    "        for i in Strain_ID[m]:\n",
    "            try:\n",
    "                Avg_titer[m][r].append(np.mean(Data_Grouped[m][r]['sHN'+str(i)]['Titer']))\n",
    "                Avg_SP[m][r].append(np.mean(Data_Grouped[m][r]['sHN'+str(i)][Property[m]]))\n",
    "                if cnt_r == 0:\n",
    "                    Data_collect[m][i] =  Data_Grouped[m][r]['sHN'+str(i)][Property[m]].values\n",
    "                else:\n",
    "                    Data_collect[m][i] = np.concatenate((Data_collect[m][i], \n",
    "                                                         Data_Grouped[m][r]['sHN'+str(i)][Property[m]].values), axis = 0)\n",
    "\n",
    "            except KeyError:\n",
    "                Avg_titer[m][r].append(np.nan)\n",
    "                Avg_SP[m][r].append(np.nan)\n",
    "                if cnt_r == 0:\n",
    "                    Data_collect[m][i] = np.nan*np.ones((Data_Grouped[m][r]['sHN'+str(Strain_ID[m][0])][Property[m]].shape[0],))\n",
    "                else:\n",
    "                    Data_collect[m][i] = np.concatenate((Data_collect[m][i], \n",
    "                                                         np.nan*np.ones((Data_Grouped[m][r]['sHN'+str(Strain_ID[m][0])][Property[m]].shape[0],))), axis = 0)\n",
    "\n",
    "                continue\n",
    "            \n",
    "        if m == 'HerA': \n",
    "            Avg_titer['HerA'][r].append(np.mean(Data_Grouped['HerA'][r]['S1312']['Titer']))\n",
    "            Avg_SP['HerA'][r].append(np.mean(Data_Grouped['HerA'][r]['S1312'][Property['HerA']]))\n",
    "            if cnt_r == 0:\n",
    "                Data_collect['HerA']['S1312'] =  Data_Grouped['HerA'][r]['S1312'][Property['HerA']].values\n",
    "            else:\n",
    "                Data_collect['HerA']['S1312'] = np.concatenate((Data_collect['HerA'][i], \n",
    "                                                             Data_Grouped['HerA'][r]['S1312'][Property['HerA']].values), axis = 0)\n",
    "        if m == 'HSA': \n",
    "            Avg_titer['HSA'][r].append(np.mean(Data_Grouped['HSA'][r]['S1311']['Titer']))\n",
    "            Avg_SP['HSA'][r].append(np.mean(Data_Grouped['HSA'][r]['S1311'][Property['HSA']]))\n",
    "            if cnt_r == 0:\n",
    "                Data_collect['HSA']['S1311'] =  Data_Grouped['HSA'][r]['S1311'][Property['HSA']].values\n",
    "            else:\n",
    "                Data_collect['HSA']['S1311'] = np.concatenate((Data_Grouped['HSA'][r]['S1311'][Property['HSA']].values,\n",
    "                                                              Data_collect['HSA'][i]), axis = 0)\n",
    "    \n",
    "    cnt_r = cnt_r + 1"
   ]
  },
  {
   "cell_type": "code",
   "execution_count": 22,
   "id": "8aa0cd78",
   "metadata": {},
   "outputs": [
    {
     "name": "stdout",
     "output_type": "stream",
     "text": [
      "[ 84.99720111 105.9625637 ]\n",
      "[222.45591231 252.03027885]\n",
      "[115.94408408 145.357403  ]\n",
      "[52.4017041  66.32936617]\n",
      "[117.79399622  43.57873029]\n"
     ]
    },
    {
     "data": {
      "image/png": "[encoded data removed]",
      "text/plain": [
       "<Figure size 720x216 with 5 Axes>"
      ]
     },
     "metadata": {
      "needs_background": "light"
     },
     "output_type": "display_data"
    }
   ],
   "source": [
    "params = {'axes.titlesize': 20, 'xtick.labelsize': 20, 'ytick.labelsize': 20, 'axes.labelsize': 20}\n",
    "hfont = {'fontname':'Arial'} #, 'weight' : 'bold'\n",
    "plt.rcParams.update(params)\n",
    "plt.rcParams[\"figure.figsize\"] = (10, 3)\n",
    "f, ax = plt.subplots(1, 5)\n",
    "f.tight_layout(pad=0.1)\n",
    "x = [[0, 0, 0], [0.5, 0.5, 0.5]]\n",
    "x_new = [[0.5, 0.5, 0.5], [0, 0, 0]]\n",
    "for i in range(5):\n",
    "    m = MoleculeList[i]\n",
    "    r = Nr_list[m]\n",
    "    if m == 'HSA': \n",
    "        dat_m = np.array(Avg_SP[m][r[0]])\n",
    "        print(dat_m)\n",
    "        barlist = ax[i].bar([0.5 , 0], dat_m, width = 0.2,facecolor= 'gray', alpha = 1)\n",
    "        ax[i].scatter(x_new,np.transpose(pd.DataFrame(Data_collect[m]).values),100, 'k')\n",
    "        ax[i].set_yticks(np.arange(0, 121, 30),**hfont)\n",
    "        ax[i].set_yticklabels(np.arange(0, 121, 30),**hfont)\n",
    "        for bl in [0]:\n",
    "            barlist[bl].set_color('firebrick')#'rosybrown'\n",
    "    else:\n",
    "        dat_m = np.array(Avg_SP[m][r[0]])\n",
    "        print(dat_m)\n",
    "        if i == 0:\n",
    "            barlist = ax[i].bar([0 , 0.5],dat_m, width = 0.2,facecolor= 'gray')\n",
    "            ax[i].set_ylabel('Titer [mg/L]', **hfont)\n",
    "            for bl in [1]:\n",
    "                barlist[bl].set_color('firebrick')#'rosybrown'\n",
    "        else:\n",
    "            barlist = ax[i].bar([0 , 0.5], dat_m, width = 0.2,facecolor= 'gray', alpha = 1)\n",
    "            for bl in [1]:\n",
    "                barlist[bl].set_color('firebrick')#'rosybrown'\n",
    "        if m == 'MSA':\n",
    "            ax[i].scatter([[0,0], [0.5, 0.5]],\n",
    "                          np.transpose(pd.DataFrame(Data_collect[m]).values) ,100, 'k')\n",
    "        else:\n",
    "            ax[i].scatter(x,\n",
    "                          np.transpose(pd.DataFrame(Data_collect[m]).values) ,100, 'k')\n",
    "            \n",
    "        if m == 'hGH':\n",
    "            ax[i].set_yticks(np.arange(0, 251,60),**hfont)\n",
    "            ax[i].set_yticklabels(np.arange(0, 251, 60),**hfont)\n",
    "        elif m == 'hGCSF':\n",
    "            ax[i].set_yticks(np.arange(0, 121, 30),**hfont)\n",
    "            ax[i].set_yticklabels(np.arange(0, 121, 30),**hfont)\n",
    "        elif m == 'MSA':\n",
    "            ax[i].set_yticks(np.arange(0, 160, 50),**hfont)\n",
    "            ax[i].set_yticklabels(np.arange(0, 160, 50),**hfont)\n",
    "        elif m == 'BSA':\n",
    "            ax[i].set_yticks(np.arange(0, 81, 20),**hfont)\n",
    "            ax[i].set_yticklabels(np.arange(0, 81, 20),**hfont)\n",
    "    \n",
    "    ax[i].set_xticks([0, 0.5], **hfont)\n",
    "    ax[i].set_xticklabels(['Native', 'Picha-CLM'], rotation = 45, **hfont)\n",
    "    \n",
    "plt.savefig(\"Comparison_w_Native_Titer_5molecule_org.pdf\", dpi = 300, bbox_inches = \"tight\")  "
   ]
  },
  {
   "cell_type": "code",
   "execution_count": 26,
   "id": "e529fd7c",
   "metadata": {},
   "outputs": [
    {
     "name": "stdout",
     "output_type": "stream",
     "text": [
      "[1.         1.24665945]\n",
      "[1.         1.13294484]\n",
      "[1.         1.25368538]\n",
      "[1.         1.26578643]\n",
      "[2.70301579 1.        ]\n"
     ]
    },
    {
     "data": {
      "image/png": "[encoded data removed]",
      "text/plain": [
       "<Figure size 720x216 with 5 Axes>"
      ]
     },
     "metadata": {
      "needs_background": "light"
     },
     "output_type": "display_data"
    }
   ],
   "source": [
    "params = {'axes.titlesize': 20, 'xtick.labelsize': 20, 'ytick.labelsize': 20, 'axes.labelsize': 20}\n",
    "hfont = {'fontname':'Arial'} #, 'weight' : 'bold'\n",
    "plt.rcParams.update(params)\n",
    "plt.rcParams[\"figure.figsize\"] = (10, 3)\n",
    "f, ax = plt.subplots(1, 5)\n",
    "f.tight_layout(pad=0.1)\n",
    "x = [[0, 0, 0], [0.5, 0.5, 0.5]]\n",
    "x_new = [[0.5, 0.5, 0.5], [0, 0, 0]]\n",
    "for i in range(5):\n",
    "    m = MoleculeList[i]\n",
    "    r = Nr_list[m]\n",
    "    if m == 'HSA': \n",
    "        dat_m = np.array(Avg_SP[m][r[0]])/Avg_SP[m][r[0]][1]\n",
    "        print(dat_m)\n",
    "        barlist = ax[i].bar([0.5 , 0], dat_m, width = 0.2,facecolor= 'gray', alpha = 1)\n",
    "        ax[i].scatter(x_new,np.transpose(pd.DataFrame(Data_collect[m]).values)/Avg_SP[m][r[0]][1] ,100, 'k')\n",
    "        ax[i].set_yticks(np.arange(0, 3.1, 1),**hfont)\n",
    "        ax[i].set_yticklabels(np.arange(0, 3.1, 1),**hfont)\n",
    "        for bl in [0]:\n",
    "            barlist[bl].set_color('firebrick')#'rosybrown'\n",
    "    else:\n",
    "        dat_m = np.array(Avg_SP[m][r[0]])/Avg_SP[m][r[0]][0]\n",
    "        print(dat_m)\n",
    "        if i == 0:\n",
    "            barlist = ax[i].bar([0 , 0.5],dat_m, width = 0.2,facecolor= 'gray')\n",
    "            ax[i].set_ylabel('Relative Titer', **hfont)\n",
    "            for bl in [1]:\n",
    "                barlist[bl].set_color('firebrick')#'rosybrown'\n",
    "        else:\n",
    "            barlist = ax[i].bar([0 , 0.5], dat_m, width = 0.2,facecolor= 'gray', alpha = 1)\n",
    "            for bl in [1]:\n",
    "                barlist[bl].set_color('firebrick')#'rosybrown'\n",
    "        if m == 'MSA':\n",
    "            ax[i].scatter([[0,0], [0.5, 0.5]],\n",
    "                          np.transpose(pd.DataFrame(Data_collect[m]).values)/Avg_SP[m][r[0]][0] ,100, 'k')\n",
    "        else:\n",
    "            ax[i].scatter(x,\n",
    "                          np.transpose(pd.DataFrame(Data_collect[m]).values/Avg_SP[m][r[0]][0]) ,100, 'k')\n",
    "        \n",
    "        ax[i].set_ylim([0, 1.4])\n",
    "        ax[i].set_yticks(np.arange(0, 1.3, 0.4),**hfont)\n",
    "        ax[i].set_yticklabels([0, 0.4, 0.8,1.2],**hfont)\n",
    "#         if m == 'hGH':\n",
    "#             ax[i].set_yticks(np.arange(0, 251,60),**hfont)\n",
    "#             ax[i].set_yticklabels(np.arange(0, 251, 60),**hfont)\n",
    "#         elif m == 'hGCSF':\n",
    "#             ax[i].set_yticks(np.arange(0, 121, 30),**hfont)\n",
    "#             ax[i].set_yticklabels(np.arange(0, 121, 30),**hfont)\n",
    "#         elif m == 'MSA':\n",
    "#             ax[i].set_yticks(np.arange(0, 160, 50),**hfont)\n",
    "#             ax[i].set_yticklabels(np.arange(0, 160, 50),**hfont)\n",
    "#         elif m == 'BSA':\n",
    "#             ax[i].set_yticks(np.arange(0, 81, 20),**hfont)\n",
    "#             ax[i].set_yticklabels(np.arange(0, 81, 20),**hfont)\n",
    "    \n",
    "    ax[i].set_xticks([0, 0.5], **hfont)\n",
    "    ax[i].set_xticklabels(['Native', 'Picha-CLM'], rotation = 45, **hfont)\n",
    "    \n",
    "plt.savefig(\"Comparison_w_Native_Titer_5molecule.pdf\", dpi = 300, bbox_inches = \"tight\")  "
   ]
  },
  {
   "cell_type": "code",
   "execution_count": null,
   "id": "554a86ca",
   "metadata": {},
   "outputs": [],
   "source": [
    "# params = {'axes.titlesize': 20, 'xtick.labelsize': 20, 'ytick.labelsize': 20, 'axes.labelsize': 20}\n",
    "# hfont = {'fontname':'Arial'} #, 'weight' : 'bold'\n",
    "# plt.rcParams.update(params)\n",
    "# plt.rcParams[\"figure.figsize\"] = (8, 3)\n",
    "# f, ax = plt.subplots(1, 3)\n",
    "# f.tight_layout(pad=0.1)\n",
    "# x = [[0, 0, 0], [0.5, 0.5, 0.5]]\n",
    "# x_new = [[0.5, 0.5, 0.5], [0, 0, 0]]\n",
    "# for i in range(3):\n",
    "#     m = MoleculeList[i]\n",
    "#     r = Nr_list[m]\n",
    "#     if m == 'HSA':\n",
    "#         barlist = ax[i].bar([0.5 , 0], Avg_SP[m][r[0]], width = 0.2,facecolor= 'gray', alpha = 1)\n",
    "#         ax[i].scatter(x_new,np.transpose(pd.DataFrame(Data_collect[m]).values) ,100, 'k')\n",
    "#         ax[i].set_yticks(np.arange(0, 121, 30),**hfont)\n",
    "#         ax[i].set_yticklabels(np.arange(0, 121, 30),**hfont)\n",
    "#         for bl in [0]:\n",
    "#             barlist[bl].set_color('firebrick')#'rosybrown'\n",
    "#     else:\n",
    "        \n",
    "#         if i == 0:\n",
    "#             barlist = ax[i].bar([0 , 0.5], Avg_SP[m][r[0]], width = 0.2,facecolor= 'gray')\n",
    "#             ax[i].set_ylabel('Titer [mg/L]', **hfont)\n",
    "#             for bl in [1]:\n",
    "#                 barlist[bl].set_color('firebrick')#'rosybrown'\n",
    "#         else:\n",
    "#             barlist = ax[i].bar([0 , 0.5], Avg_SP[m][r[0]], width = 0.2,facecolor= 'gray', alpha = 1)\n",
    "#             for bl in [1]:\n",
    "#                 barlist[bl].set_color('firebrick')#'rosybrown'\n",
    "        \n",
    "#         ax[i].scatter(x,np.transpose(pd.DataFrame(Data_collect[m]).values) ,100, 'k')\n",
    "#         if m == 'hGH':\n",
    "#             ax[i].set_yticks(np.arange(0, 251,60),**hfont)\n",
    "#             ax[i].set_yticklabels(np.arange(0, 251, 60),**hfont)\n",
    "#         elif m == 'hGCSF':\n",
    "#             ax[i].set_yticks(np.arange(0, 121, 30),**hfont)\n",
    "#             ax[i].set_yticklabels(np.arange(0, 121, 30),**hfont)\n",
    "    \n",
    "#     ax[i].set_xticks([0, 0.5], **hfont)\n",
    "#     ax[i].set_xticklabels(['Native', 'Picha-CLM'], rotation = 45, **hfont)\n",
    "    \n",
    "# # plt.savefig(\"Comparison_w_Native_Titer.pdf\", dpi = 300, bbox_inches = \"tight\")  "
   ]
  },
  {
   "cell_type": "code",
   "execution_count": null,
   "id": "77a43dcf",
   "metadata": {},
   "outputs": [],
   "source": []
  },
  {
   "cell_type": "code",
   "execution_count": null,
   "id": "85c8be5a",
   "metadata": {},
   "outputs": [],
   "source": [
    "Data_collect['MSA']"
   ]
  },
  {
   "cell_type": "code",
   "execution_count": null,
   "id": "68eac332",
   "metadata": {},
   "outputs": [],
   "source": []
  },
  {
   "cell_type": "code",
   "execution_count": null,
   "id": "c24ce631",
   "metadata": {},
   "outputs": [],
   "source": []
  },
  {
   "cell_type": "code",
   "execution_count": null,
   "id": "8c8c23c5",
   "metadata": {},
   "outputs": [],
   "source": []
  },
  {
   "cell_type": "code",
   "execution_count": null,
   "id": "d587bb32",
   "metadata": {},
   "outputs": [],
   "source": []
  },
  {
   "cell_type": "code",
   "execution_count": null,
   "id": "741808cc",
   "metadata": {},
   "outputs": [],
   "source": []
  },
  {
   "cell_type": "code",
   "execution_count": null,
   "id": "ea5032c9",
   "metadata": {},
   "outputs": [],
   "source": []
  },
  {
   "cell_type": "code",
   "execution_count": null,
   "id": "1e03ea1f",
   "metadata": {},
   "outputs": [],
   "source": []
  },
  {
   "cell_type": "code",
   "execution_count": null,
   "id": "c6f56616",
   "metadata": {},
   "outputs": [],
   "source": []
  },
  {
   "cell_type": "code",
   "execution_count": null,
   "id": "1acea041",
   "metadata": {},
   "outputs": [],
   "source": []
  },
  {
   "cell_type": "code",
   "execution_count": null,
   "id": "fce81e02",
   "metadata": {},
   "outputs": [],
   "source": []
  },
  {
   "cell_type": "code",
   "execution_count": null,
   "id": "5f4eeee4",
   "metadata": {},
   "outputs": [],
   "source": []
  },
  {
   "cell_type": "code",
   "execution_count": null,
   "id": "321ebcf3",
   "metadata": {},
   "outputs": [],
   "source": []
  },
  {
   "cell_type": "code",
   "execution_count": null,
   "id": "72f32278",
   "metadata": {},
   "outputs": [],
   "source": []
  },
  {
   "cell_type": "code",
   "execution_count": null,
   "id": "96723319",
   "metadata": {},
   "outputs": [],
   "source": []
  },
  {
   "cell_type": "code",
   "execution_count": null,
   "id": "566112da",
   "metadata": {},
   "outputs": [],
   "source": []
  },
  {
   "cell_type": "code",
   "execution_count": null,
   "id": "5de9fab7",
   "metadata": {},
   "outputs": [],
   "source": []
  },
  {
   "cell_type": "code",
   "execution_count": null,
   "id": "00147ad6",
   "metadata": {},
   "outputs": [],
   "source": []
  },
  {
   "cell_type": "code",
   "execution_count": null,
   "id": "fc5656bb",
   "metadata": {},
   "outputs": [],
   "source": []
  },
  {
   "cell_type": "code",
   "execution_count": null,
   "id": "de9cb90b",
   "metadata": {},
   "outputs": [],
   "source": []
  },
  {
   "cell_type": "code",
   "execution_count": null,
   "id": "dea616e2",
   "metadata": {},
   "outputs": [],
   "source": []
  },
  {
   "cell_type": "code",
   "execution_count": null,
   "id": "fd5e44e3",
   "metadata": {},
   "outputs": [],
   "source": []
  },
  {
   "cell_type": "code",
   "execution_count": null,
   "id": "9974ce98",
   "metadata": {},
   "outputs": [],
   "source": []
  },
  {
   "cell_type": "code",
   "execution_count": null,
   "id": "4ae50875",
   "metadata": {},
   "outputs": [],
   "source": []
  },
  {
   "cell_type": "code",
   "execution_count": null,
   "id": "0b188de1",
   "metadata": {},
   "outputs": [],
   "source": []
  },
  {
   "cell_type": "code",
   "execution_count": null,
   "id": "4dd5d68b",
   "metadata": {},
   "outputs": [],
   "source": []
  },
  {
   "cell_type": "code",
   "execution_count": null,
   "id": "c26b9018",
   "metadata": {},
   "outputs": [],
   "source": []
  },
  {
   "cell_type": "code",
   "execution_count": null,
   "id": "854cce30",
   "metadata": {},
   "outputs": [],
   "source": []
  },
  {
   "cell_type": "code",
   "execution_count": null,
   "id": "895970d0",
   "metadata": {},
   "outputs": [],
   "source": []
  },
  {
   "cell_type": "code",
   "execution_count": null,
   "id": "d9bcf660",
   "metadata": {},
   "outputs": [],
   "source": []
  },
  {
   "cell_type": "code",
   "execution_count": null,
   "id": "223e3acc",
   "metadata": {},
   "outputs": [],
   "source": []
  },
  {
   "cell_type": "code",
   "execution_count": null,
   "id": "2b5352b9",
   "metadata": {},
   "outputs": [],
   "source": []
  },
  {
   "cell_type": "code",
   "execution_count": null,
   "id": "50bfe1d6",
   "metadata": {},
   "outputs": [],
   "source": []
  },
  {
   "cell_type": "code",
   "execution_count": null,
   "id": "7412fe39",
   "metadata": {},
   "outputs": [],
   "source": []
  },
  {
   "cell_type": "code",
   "execution_count": null,
   "id": "efc39efb",
   "metadata": {},
   "outputs": [],
   "source": []
  },
  {
   "cell_type": "code",
   "execution_count": null,
   "id": "431a5cd7",
   "metadata": {},
   "outputs": [],
   "source": []
  },
  {
   "cell_type": "code",
   "execution_count": null,
   "id": "802162e4",
   "metadata": {},
   "outputs": [],
   "source": []
  },
  {
   "cell_type": "code",
   "execution_count": null,
   "id": "7f737f91",
   "metadata": {},
   "outputs": [],
   "source": []
  },
  {
   "cell_type": "code",
   "execution_count": null,
   "id": "1abe5554",
   "metadata": {},
   "outputs": [],
   "source": []
  },
  {
   "cell_type": "code",
   "execution_count": null,
   "id": "e8103ef5",
   "metadata": {},
   "outputs": [],
   "source": []
  },
  {
   "cell_type": "code",
   "execution_count": null,
   "id": "328905bf",
   "metadata": {},
   "outputs": [],
   "source": []
  },
  {
   "cell_type": "code",
   "execution_count": null,
   "id": "a4229e34",
   "metadata": {},
   "outputs": [],
   "source": []
  },
  {
   "cell_type": "code",
   "execution_count": null,
   "id": "f9e378a4",
   "metadata": {},
   "outputs": [],
   "source": []
  },
  {
   "cell_type": "code",
   "execution_count": null,
   "id": "54462a7e",
   "metadata": {},
   "outputs": [],
   "source": []
  },
  {
   "cell_type": "code",
   "execution_count": null,
   "id": "ab772a60",
   "metadata": {},
   "outputs": [],
   "source": []
  },
  {
   "cell_type": "code",
   "execution_count": null,
   "id": "cf65faeb",
   "metadata": {},
   "outputs": [],
   "source": []
  },
  {
   "cell_type": "code",
   "execution_count": null,
   "id": "555182f2",
   "metadata": {},
   "outputs": [],
   "source": []
  },
  {
   "cell_type": "code",
   "execution_count": null,
   "id": "a41fcbe4",
   "metadata": {},
   "outputs": [],
   "source": []
  },
  {
   "cell_type": "code",
   "execution_count": null,
   "id": "78742223",
   "metadata": {},
   "outputs": [],
   "source": []
  },
  {
   "cell_type": "code",
   "execution_count": null,
   "id": "9371ba63",
   "metadata": {},
   "outputs": [],
   "source": []
  },
  {
   "cell_type": "code",
   "execution_count": null,
   "id": "9647dd3a",
   "metadata": {},
   "outputs": [],
   "source": []
  },
  {
   "cell_type": "code",
   "execution_count": null,
   "id": "cf020378",
   "metadata": {},
   "outputs": [],
   "source": []
  },
  {
   "cell_type": "code",
   "execution_count": null,
   "id": "a7a8783f",
   "metadata": {},
   "outputs": [],
   "source": []
  },
  {
   "cell_type": "code",
   "execution_count": null,
   "id": "8f1e0867",
   "metadata": {},
   "outputs": [],
   "source": []
  },
  {
   "cell_type": "code",
   "execution_count": null,
   "id": "fc82e4ec",
   "metadata": {},
   "outputs": [],
   "source": []
  },
  {
   "cell_type": "code",
   "execution_count": null,
   "id": "53e95b30",
   "metadata": {},
   "outputs": [],
   "source": []
  },
  {
   "cell_type": "code",
   "execution_count": null,
   "id": "aa4945d3",
   "metadata": {},
   "outputs": [],
   "source": []
  },
  {
   "cell_type": "code",
   "execution_count": null,
   "id": "ff4cde01",
   "metadata": {},
   "outputs": [],
   "source": []
  },
  {
   "cell_type": "code",
   "execution_count": null,
   "id": "8f8815e4",
   "metadata": {},
   "outputs": [],
   "source": []
  },
  {
   "cell_type": "code",
   "execution_count": null,
   "id": "afa8759d",
   "metadata": {},
   "outputs": [],
   "source": []
  },
  {
   "cell_type": "code",
   "execution_count": null,
   "id": "6be86334",
   "metadata": {},
   "outputs": [],
   "source": []
  },
  {
   "cell_type": "code",
   "execution_count": null,
   "id": "a887190a",
   "metadata": {},
   "outputs": [],
   "source": []
  },
  {
   "cell_type": "code",
   "execution_count": null,
   "id": "420a7ed5",
   "metadata": {},
   "outputs": [],
   "source": []
  }
 ],
 "metadata": {
  "kernelspec": {
   "display_name": "Python 3 (ipykernel)",
   "language": "python",
   "name": "python3"
  },
  "language_info": {
   "codemirror_mode": {
    "name": "ipython",
    "version": 3
   },
   "file_extension": ".py",
   "mimetype": "text/x-python",
   "name": "python",
   "nbconvert_exporter": "python",
   "pygments_lexer": "ipython3",
   "version": "3.7.13"
  }
 },
 "nbformat": 4,
 "nbformat_minor": 5
}
