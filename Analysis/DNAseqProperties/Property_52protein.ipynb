{
 "cells": [
  {
   "cell_type": "code",
   "execution_count": 1,
   "id": "0850efe0",
   "metadata": {},
   "outputs": [],
   "source": [
    "import logging\n",
    "import time\n",
    "import os\n",
    "import pickle\n",
    "import math\n",
    "\n",
    "import matplotlib.pyplot as plt\n",
    "\n",
    "#import tensorflow_datasets as tfds\n",
    "import tensorflow as tf\n",
    "\n",
    "# Import tf_text to load the ops used by the tokenizer saved model\n",
    "#import tensorflow_text  # pylint: disable=unused-import\n",
    "import pandas as pd\n",
    "import numpy as np\n",
    "import re\n",
    "import seaborn as sns\n",
    "\n",
    "from sklearn.model_selection import train_test_split\n",
    "\n",
    "import jellyfish \n",
    "from tensorflow.keras.preprocessing.sequence import pad_sequences\n",
    "from tensorflow.keras.preprocessing.text import Tokenizer\n",
    "from tensorflow.keras.models import Model,  Sequential\n",
    "from tensorflow.keras.layers import LSTM, GRU, Bidirectional, Dropout, Input, TimeDistributed, Dense, Activation, RepeatVector, Embedding, Concatenate\n",
    "import tensorflow.keras.layers as layers\n",
    "from tensorflow.keras.layers import Attention\n",
    "from tensorflow.keras.optimizers import Adam, Adagrad\n",
    "from keras.losses import sparse_categorical_crossentropy\n",
    "logging.getLogger('tensorflow').setLevel(logging.ERROR)  # suppress warnings\n",
    "import random"
   ]
  },
  {
   "cell_type": "code",
   "execution_count": 2,
   "id": "63421537",
   "metadata": {},
   "outputs": [],
   "source": [
    "def AA_Codon_list():\n",
    "    dic_AA_codon = {'A': ['GCT', 'GCC', 'GCA', 'GCG'],\n",
    "                    'C': ['TGT', 'TGC'],\n",
    "                    'D': ['GAT', 'GAC'],\n",
    "                    'E': ['GAA', 'GAG'],\n",
    "                    'F': ['TTT', 'TTC'],\n",
    "                    'G': ['GGT', 'GGA', 'GGC', 'GGG'],\n",
    "                    'H': ['CAT', 'CAC'],\n",
    "                    'I': ['ATT', 'ATC', 'ATA'],\n",
    "                    'K': ['AAA', 'AAG'],\n",
    "                    'L': ['TTA', 'TTG', 'CTT', 'CTC', 'CTA', 'CTG'],\n",
    "                    'M': ['ATG'],\n",
    "                    'N': ['AAT', 'AAC'],\n",
    "                    'P': ['CCT', 'CCC', 'CCA', 'CCG'],\n",
    "                    'Q': ['CAA', 'CAG'],\n",
    "                    'R': ['CGT', 'CGC', 'CGA', 'CGG', 'AGA', 'AGG'],\n",
    "                    'S': ['TCT', 'TCC', 'TCA', 'TCG', 'AGT', 'AGC'],\n",
    "                    'T': ['ACT', 'ACC', 'ACA', 'ACG'],\n",
    "                    'V': ['GTT', 'GTC', 'GTA', 'GTG'],\n",
    "                    'W': ['TGG'],\n",
    "                    'Y': ['TAT', 'TAC'],\n",
    "                    '*': ['TAA', 'TAG', 'TGA']}\n",
    "\n",
    "    codon_list = []\n",
    "    AA_list = []\n",
    "    for key in dic_AA_codon:\n",
    "        for i in range(len(dic_AA_codon[key])):\n",
    "            AA_list.append(key)\n",
    "        for i in dic_AA_codon[key]:\n",
    "            codon_list.append(i)\n",
    "    return AA_list, codon_list"
   ]
  },
  {
   "cell_type": "markdown",
   "id": "bb57f78a",
   "metadata": {},
   "source": [
    "### GC content\n",
    "### CSI\n",
    "### %Rare codon"
   ]
  },
  {
   "cell_type": "code",
   "execution_count": 3,
   "id": "8260ff22",
   "metadata": {},
   "outputs": [],
   "source": [
    "Data = {}\n",
    "Prop = {}\n",
    "Codon_Table = {}\n",
    "Max_freq = {}\n",
    "\n",
    "organism = ['Pichia', 'Human']\n",
    "for o in organism:\n",
    "    Codon_Table[o] = pd.read_csv(\"./CT/\"+ o + \".csv\")\n",
    "    Max_freq[o] = np.zeros((Codon_Table[o].shape[0],1))\n",
    "    \n",
    "    for c in range(Codon_Table[o].shape[0]):\n",
    "        subset = Codon_Table[o].loc[Codon_Table[o].iloc[:, 0]==Codon_Table[o].iloc[c, 0], :]\n",
    "        \n",
    "        Max_freq[o][c,0:1] = subset['relative_frequency'].max()\n",
    "    \n",
    "    Codon_Table[o] = pd.concat((Codon_Table[o], pd.DataFrame(Max_freq[o][:,0:1])), axis = 1)\n",
    "    Codon_Table[o].columns = ['AA', 'codon', 'relative_frequency', 'Max_frequency']"
   ]
  },
  {
   "cell_type": "code",
   "execution_count": 7,
   "id": "a3970a9e",
   "metadata": {},
   "outputs": [],
   "source": [
    "Test_Data = pd.read_csv(\"./CodonTransformerPpr_Data/52proteinArch1.csv\")"
   ]
  },
  {
   "cell_type": "code",
   "execution_count": 10,
   "id": "c535469f",
   "metadata": {},
   "outputs": [],
   "source": [
    "molecule = list(Test_Data.iloc[:,0])\n",
    "Algorithms = ['Arch1']"
   ]
  },
  {
   "cell_type": "code",
   "execution_count": 19,
   "id": "7b698632",
   "metadata": {},
   "outputs": [],
   "source": [
    "Prop_ts= {} \n",
    "o = 'Pichia'\n",
    "\n",
    "Prop_ts = np.zeros((len(molecule), 3))\n",
    "for m in range(len(molecule)):\n",
    "    seq = Test_Data.iloc[m,1]\n",
    "    seq = seq.replace('T','U')\n",
    "    Prop_ts[m, 0] = (seq.count('G') + seq.count('C'))/len(seq)\n",
    "\n",
    "    for k in np.arange(0,len(seq),3):\n",
    "        temp = Codon_Table[o].loc[Codon_Table[o].iloc[:, 1]==seq[k:k+3], :]\n",
    "        if temp['relative_frequency'].values <0.3:\n",
    "            Prop_ts[m,1] = Prop_ts[m,1] + 1 #rare codons \n",
    "\n",
    "        Prop_ts[m,2] = Prop_ts[m,2] + np.log(temp['relative_frequency'].values/temp['Max_frequency'].values)\n",
    "\n",
    "    Prop_ts[m,1] = Prop_ts[m,1]/(len(seq)/3)\n",
    "    Prop_ts[m,2] = np.exp(Prop_ts[m,2]/(len(seq)/3))\n",
    "\n",
    "    \n",
    "df = pd.concat((Test_Data.iloc[:,0:1], pd.DataFrame(Prop_ts)), axis = 1)\n",
    "df.columns = ['Molecules', 'GC','Rare','CSI']\n",
    "df.to_excel(\"52protein_\"+o+\".xlsx\")"
   ]
  },
  {
   "cell_type": "code",
   "execution_count": 15,
   "id": "b79cb324",
   "metadata": {},
   "outputs": [
    {
     "data": {
      "text/plain": [
       "array([  0,   3,   6,   9,  12,  15,  18,  21,  24,  27,  30,  33,  36,\n",
       "        39,  42,  45,  48,  51,  54,  57,  60,  63,  66,  69,  72,  75,\n",
       "        78,  81,  84,  87,  90,  93,  96,  99, 102, 105, 108, 111, 114,\n",
       "       117, 120, 123, 126, 129, 132, 135, 138, 141, 144, 147, 150, 153,\n",
       "       156, 159, 162, 165, 168, 171, 174, 177, 180, 183, 186, 189, 192,\n",
       "       195, 198, 201, 204, 207, 210, 213, 216, 219, 222, 225, 228, 231,\n",
       "       234, 237, 240, 243, 246, 249, 252, 255, 258, 261, 264, 267, 270,\n",
       "       273, 276, 279, 282, 285, 288, 291, 294, 297, 300, 303, 306, 309,\n",
       "       312, 315, 318, 321, 324, 327, 330])"
      ]
     },
     "execution_count": 15,
     "metadata": {},
     "output_type": "execute_result"
    }
   ],
   "source": [
    "np.arange(0,len(seq),3)"
   ]
  },
  {
   "cell_type": "code",
   "execution_count": null,
   "id": "d775f5b5",
   "metadata": {},
   "outputs": [],
   "source": []
  }
 ],
 "metadata": {
  "kernelspec": {
   "display_name": "Python 3 (ipykernel)",
   "language": "python",
   "name": "python3"
  },
  "language_info": {
   "codemirror_mode": {
    "name": "ipython",
    "version": 3
   },
   "file_extension": ".py",
   "mimetype": "text/x-python",
   "name": "python",
   "nbconvert_exporter": "python",
   "pygments_lexer": "ipython3",
   "version": "3.7.13"
  }
 },
 "nbformat": 4,
 "nbformat_minor": 5
}
