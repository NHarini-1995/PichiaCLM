{
 "cells": [
  {
   "cell_type": "code",
   "execution_count": 1,
   "id": "0850efe0",
   "metadata": {},
   "outputs": [],
   "source": [
    "import logging\n",
    "import time\n",
    "import os\n",
    "import pickle\n",
    "import math\n",
    "\n",
    "import matplotlib.pyplot as plt\n",
    "\n",
    "#import tensorflow_datasets as tfds\n",
    "import tensorflow as tf\n",
    "\n",
    "# Import tf_text to load the ops used by the tokenizer saved model\n",
    "#import tensorflow_text  # pylint: disable=unused-import\n",
    "import pandas as pd\n",
    "import numpy as np\n",
    "import re\n",
    "import seaborn as sns\n",
    "\n",
    "from sklearn.model_selection import train_test_split\n",
    "\n",
    "import jellyfish \n",
    "from tensorflow.keras.preprocessing.sequence import pad_sequences\n",
    "from tensorflow.keras.preprocessing.text import Tokenizer\n",
    "from tensorflow.keras.models import Model,  Sequential\n",
    "from tensorflow.keras.layers import LSTM, GRU, Bidirectional, Dropout, Input, TimeDistributed, Dense, Activation, RepeatVector, Embedding, Concatenate\n",
    "import tensorflow.keras.layers as layers\n",
    "from tensorflow.keras.layers import Attention\n",
    "from tensorflow.keras.optimizers import Adam, Adagrad\n",
    "from keras.losses import sparse_categorical_crossentropy\n",
    "logging.getLogger('tensorflow').setLevel(logging.ERROR)  # suppress warnings\n",
    "import random"
   ]
  },
  {
   "cell_type": "code",
   "execution_count": 2,
   "id": "63421537",
   "metadata": {},
   "outputs": [],
   "source": [
    "def AA_Codon_list():\n",
    "    dic_AA_codon = {'A': ['GCT', 'GCC', 'GCA', 'GCG'],\n",
    "                    'C': ['TGT', 'TGC'],\n",
    "                    'D': ['GAT', 'GAC'],\n",
    "                    'E': ['GAA', 'GAG'],\n",
    "                    'F': ['TTT', 'TTC'],\n",
    "                    'G': ['GGT', 'GGA', 'GGC', 'GGG'],\n",
    "                    'H': ['CAT', 'CAC'],\n",
    "                    'I': ['ATT', 'ATC', 'ATA'],\n",
    "                    'K': ['AAA', 'AAG'],\n",
    "                    'L': ['TTA', 'TTG', 'CTT', 'CTC', 'CTA', 'CTG'],\n",
    "                    'M': ['ATG'],\n",
    "                    'N': ['AAT', 'AAC'],\n",
    "                    'P': ['CCT', 'CCC', 'CCA', 'CCG'],\n",
    "                    'Q': ['CAA', 'CAG'],\n",
    "                    'R': ['CGT', 'CGC', 'CGA', 'CGG', 'AGA', 'AGG'],\n",
    "                    'S': ['TCT', 'TCC', 'TCA', 'TCG', 'AGT', 'AGC'],\n",
    "                    'T': ['ACT', 'ACC', 'ACA', 'ACG'],\n",
    "                    'V': ['GTT', 'GTC', 'GTA', 'GTG'],\n",
    "                    'W': ['TGG'],\n",
    "                    'Y': ['TAT', 'TAC'],\n",
    "                    '*': ['TAA', 'TAG', 'TGA']}\n",
    "\n",
    "    codon_list = []\n",
    "    AA_list = []\n",
    "    for key in dic_AA_codon:\n",
    "        for i in range(len(dic_AA_codon[key])):\n",
    "            AA_list.append(key)\n",
    "        for i in dic_AA_codon[key]:\n",
    "            codon_list.append(i)\n",
    "    return AA_list, codon_list"
   ]
  },
  {
   "cell_type": "markdown",
   "id": "bb57f78a",
   "metadata": {},
   "source": [
    "### GC content\n",
    "### CSI\n",
    "### %Rare codon"
   ]
  },
  {
   "cell_type": "code",
   "execution_count": 3,
   "id": "8260ff22",
   "metadata": {},
   "outputs": [],
   "source": [
    "Data = {}\n",
    "Prop = {}\n",
    "Codon_Table = {}\n",
    "Max_freq = {}\n",
    "\n",
    "organism = ['Pichia', 'Human']\n",
    "for o in organism:\n",
    "    Codon_Table[o] = pd.read_csv(\"./CT/\"+ o + \".csv\")\n",
    "    Max_freq[o] = np.zeros((Codon_Table[o].shape[0],1))\n",
    "    \n",
    "    for c in range(Codon_Table[o].shape[0]):\n",
    "        subset = Codon_Table[o].loc[Codon_Table[o].iloc[:, 0]==Codon_Table[o].iloc[c, 0], :]\n",
    "        \n",
    "        Max_freq[o][c,0:1] = subset['relative_frequency'].max()\n",
    "    \n",
    "    Codon_Table[o] = pd.concat((Codon_Table[o], pd.DataFrame(Max_freq[o][:,0:1])), axis = 1)\n",
    "    Codon_Table[o].columns = ['AA', 'codon', 'relative_frequency', 'Max_frequency']"
   ]
  },
  {
   "cell_type": "code",
   "execution_count": 4,
   "id": "a3970a9e",
   "metadata": {},
   "outputs": [],
   "source": [
    "Test_Data = pd.read_excel(\"Test_CodingSequences.xlsx\", \"NoNative\")"
   ]
  },
  {
   "cell_type": "code",
   "execution_count": 5,
   "id": "c535469f",
   "metadata": {},
   "outputs": [],
   "source": [
    "molecule = ['RBDJ', '3B2', 'Her_HC', 'Her_LC']\n",
    "# molecule = ['HSA', 'HGH', 'HGCSF']\n",
    "# molecule = ['BSA', 'Lactadherin']\n",
    "Algorithms = Test_Data['Architecture'].tolist()"
   ]
  },
  {
   "cell_type": "code",
   "execution_count": 6,
   "id": "bb268a49",
   "metadata": {},
   "outputs": [],
   "source": [
    "Prop_ts= {} \n",
    "o = 'Human'\n",
    "for m in range(len(molecule)):\n",
    "    Prop_ts[molecule[m]] = np.zeros((len(Algorithms), 3))\n",
    "    for a in range(len(Algorithms)):\n",
    "        seq = Test_Data.iloc[a, m+1]\n",
    "        seq = seq.replace('T','U')\n",
    "#         print(seq)\n",
    "        Prop_ts[molecule[m]][a, 0] = (seq.count('G') + seq.count('C'))/len(seq)\n",
    "        \n",
    "        for k in np.arange(0,len(seq),3):\n",
    "#             print(seq[k:k+3])\n",
    "            temp = Codon_Table[o].loc[Codon_Table[o].iloc[:, 1]==seq[k:k+3], :]\n",
    "#             print(temp)\n",
    "            if temp['relative_frequency'].values <0.3:\n",
    "                Prop_ts[molecule[m]][a,1] = Prop_ts[molecule[m]][a,1] + 1 #rare codons \n",
    "            \n",
    "            Prop_ts[molecule[m]][a,2] = Prop_ts[molecule[m]][a,2] + np.log(temp['relative_frequency'].values/temp['Max_frequency'].values)\n",
    "            \n",
    "        Prop_ts[molecule[m]][a,1] = Prop_ts[molecule[m]][a,1]/(len(seq)/3)\n",
    "        Prop_ts[molecule[m]][a,2] = np.exp(Prop_ts[molecule[m]][a,2]/(len(seq)/3))\n",
    "    \n",
    "    df = pd.concat((Test_Data['Architecture'], pd.DataFrame(Prop_ts[molecule[m]])), axis = 1)\n",
    "    df.columns = ['Architecture', 'GC','Rare','CSI']\n",
    "    df.to_excel(molecule[m]+\"_\"+o+\".xlsx\")"
   ]
  },
  {
   "cell_type": "code",
   "execution_count": null,
   "id": "7b698632",
   "metadata": {},
   "outputs": [],
   "source": [
    "Prop_ts= {} \n",
    "o = 'Pichia'\n",
    "for m in range(len(molecule)):\n",
    "    Prop_ts[molecule[m]] = np.zeros((len(Algorithms), 3))\n",
    "    for a in range(len(Algorithms)):\n",
    "        seq = Test_Data.iloc[a, m+1]\n",
    "        \n",
    "        seq = seq.replace('T','U')\n",
    "#         print(seq)\n",
    "        Prop_ts[molecule[m]][a, 0] = (seq.count('G') + seq.count('C'))/len(seq)\n",
    "\n",
    "        for k in np.arange(0,len(seq),3):\n",
    "#             print(seq[k:k+3])\n",
    "            temp = Codon_Table[o].loc[Codon_Table[o].iloc[:, 1]==seq[k:k+3], :]\n",
    "#             print(temp)\n",
    "            if temp['relative_frequency'].values <0.3:\n",
    "                Prop_ts[molecule[m]][a,1] = Prop_ts[molecule[m]][a,1] + 1 #rare codons \n",
    "\n",
    "            Prop_ts[molecule[m]][a,2] = Prop_ts[molecule[m]][a,2] + np.log(temp['relative_frequency'].values/temp['Max_frequency'].values)\n",
    "\n",
    "        Prop_ts[molecule[m]][a,1] = Prop_ts[molecule[m]][a,1]/(len(seq)/3)\n",
    "        Prop_ts[molecule[m]][a,2] = np.exp(Prop_ts[molecule[m]][a,2]/(len(seq)/3))\n",
    "\n",
    "    df = pd.concat((Test_Data['Architecture'], pd.DataFrame(Prop_ts[molecule[m]])), axis = 1)\n",
    "    df.columns = ['Architecture', 'GC','Rare','CSI']\n",
    "    df.to_excel(molecule[m]+\"_\"+o+\".xlsx\")"
   ]
  },
  {
   "cell_type": "code",
   "execution_count": null,
   "id": "d20f5727",
   "metadata": {},
   "outputs": [],
   "source": [
    "seq"
   ]
  },
  {
   "cell_type": "code",
   "execution_count": null,
   "id": "b79cb324",
   "metadata": {},
   "outputs": [],
   "source": []
  }
 ],
 "metadata": {
  "kernelspec": {
   "display_name": "Python 3 (ipykernel)",
   "language": "python",
   "name": "python3"
  },
  "language_info": {
   "codemirror_mode": {
    "name": "ipython",
    "version": 3
   },
   "file_extension": ".py",
   "mimetype": "text/x-python",
   "name": "python",
   "nbconvert_exporter": "python",
   "pygments_lexer": "ipython3",
   "version": "3.7.13"
  }
 },
 "nbformat": 4,
 "nbformat_minor": 5
}
