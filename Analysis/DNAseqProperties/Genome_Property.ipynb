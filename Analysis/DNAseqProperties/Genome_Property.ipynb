{
 "cells": [
  {
   "cell_type": "code",
   "execution_count": null,
   "id": "0850efe0",
   "metadata": {},
   "outputs": [],
   "source": [
    "import logging\n",
    "import time\n",
    "import os\n",
    "import pickle\n",
    "import math\n",
    "\n",
    "import matplotlib.pyplot as plt\n",
    "\n",
    "#import tensorflow_datasets as tfds\n",
    "import tensorflow as tf\n",
    "\n",
    "# Import tf_text to load the ops used by the tokenizer saved model\n",
    "#import tensorflow_text  # pylint: disable=unused-import\n",
    "import pandas as pd\n",
    "import numpy as np\n",
    "import re\n",
    "import seaborn as sns\n",
    "\n",
    "from sklearn.model_selection import train_test_split\n",
    "\n",
    "import jellyfish \n",
    "from tensorflow.keras.preprocessing.sequence import pad_sequences\n",
    "from tensorflow.keras.preprocessing.text import Tokenizer\n",
    "from tensorflow.keras.models import Model,  Sequential\n",
    "from tensorflow.keras.layers import LSTM, GRU, Bidirectional, Dropout, Input, TimeDistributed, Dense, Activation, RepeatVector, Embedding, Concatenate\n",
    "import tensorflow.keras.layers as layers\n",
    "from tensorflow.keras.layers import Attention\n",
    "from tensorflow.keras.optimizers import Adam, Adagrad\n",
    "from keras.losses import sparse_categorical_crossentropy\n",
    "logging.getLogger('tensorflow').setLevel(logging.ERROR)  # suppress warnings\n",
    "import random"
   ]
  },
  {
   "cell_type": "code",
   "execution_count": null,
   "id": "550052b5",
   "metadata": {},
   "outputs": [],
   "source": [
    "file_names = ['BosT','Human','Pichia',   'Mouse']"
   ]
  },
  {
   "cell_type": "code",
   "execution_count": null,
   "id": "63421537",
   "metadata": {},
   "outputs": [],
   "source": [
    "def AA_Codon_list():\n",
    "    dic_AA_codon = {'A': ['GCT', 'GCC', 'GCA', 'GCG'],\n",
    "                    'C': ['TGT', 'TGC'],\n",
    "                    'D': ['GAT', 'GAC'],\n",
    "                    'E': ['GAA', 'GAG'],\n",
    "                    'F': ['TTT', 'TTC'],\n",
    "                    'G': ['GGT', 'GGA', 'GGC', 'GGG'],\n",
    "                    'H': ['CAT', 'CAC'],\n",
    "                    'I': ['ATT', 'ATC', 'ATA'],\n",
    "                    'K': ['AAA', 'AAG'],\n",
    "                    'L': ['TTA', 'TTG', 'CTT', 'CTC', 'CTA', 'CTG'],\n",
    "                    'M': ['ATG'],\n",
    "                    'N': ['AAT', 'AAC'],\n",
    "                    'P': ['CCT', 'CCC', 'CCA', 'CCG'],\n",
    "                    'Q': ['CAA', 'CAG'],\n",
    "                    'R': ['CGT', 'CGC', 'CGA', 'CGG', 'AGA', 'AGG'],\n",
    "                    'S': ['TCT', 'TCC', 'TCA', 'TCG', 'AGT', 'AGC'],\n",
    "                    'T': ['ACT', 'ACC', 'ACA', 'ACG'],\n",
    "                    'V': ['GTT', 'GTC', 'GTA', 'GTG'],\n",
    "                    'W': ['TGG'],\n",
    "                    'Y': ['TAT', 'TAC'],\n",
    "                    '*': ['TAA', 'TAG', 'TGA']}\n",
    "\n",
    "    codon_list = []\n",
    "    AA_list = []\n",
    "    for key in dic_AA_codon:\n",
    "        for i in range(len(dic_AA_codon[key])):\n",
    "            AA_list.append(key)\n",
    "        for i in dic_AA_codon[key]:\n",
    "            codon_list.append(i)\n",
    "    return AA_list, codon_list"
   ]
  },
  {
   "cell_type": "markdown",
   "id": "bb57f78a",
   "metadata": {},
   "source": [
    "## GC content"
   ]
  },
  {
   "cell_type": "markdown",
   "id": "a994a5df",
   "metadata": {},
   "source": [
    "## CSI"
   ]
  },
  {
   "cell_type": "markdown",
   "id": "b4a04a23",
   "metadata": {},
   "source": [
    "## %Rare codon"
   ]
  },
  {
   "cell_type": "code",
   "execution_count": null,
   "id": "8260ff22",
   "metadata": {},
   "outputs": [],
   "source": [
    "Data = {}\n",
    "Prop = {}\n",
    "Codon_Table = {}\n",
    "Max_freq = {}\n",
    "\n",
    "for i in range(1):\n",
    "    Codon_Table[file_names[i]] = pd.read_csv(\"./CT/\"+ file_names[i] + \".csv\")\n",
    "    Max_freq[file_names[i]] = np.zeros((Codon_Table[file_names[i]].shape[0],1))\n",
    "    \n",
    "    for c in range(Codon_Table[file_names[i]].shape[0]):\n",
    "        subset = Codon_Table[file_names[i]].loc[Codon_Table[file_names[i]].iloc[:, 0]==Codon_Table[file_names[i]].iloc[c, 0], :]\n",
    "        \n",
    "        Max_freq[file_names[i]][c,0:1] = subset['relative_frequency'].max()\n",
    "    \n",
    "    Codon_Table[file_names[i]] = pd.concat((Codon_Table[file_names[i]], pd.DataFrame(Max_freq[file_names[i]][:,0:1])), axis = 1)\n",
    "    Codon_Table[file_names[i]].columns = ['AA', 'codon', 'relative_frequency', 'Max_frequency']"
   ]
  },
  {
   "cell_type": "code",
   "execution_count": null,
   "id": "7018ceb0",
   "metadata": {},
   "outputs": [],
   "source": [
    "Data_dict_New = {}\n",
    "for i in range(1): #len(file_names)\n",
    "    Data[file_names[i]] = pd.read_csv(\"./Genomes/\"+ file_names[i] + \".csv\")\n",
    "    index = []\n",
    "    for j in range(len( Data[file_names[i]]['CDS_Seq'])):\n",
    "        if Data[file_names[i]]['CDS_Seq'][j].find('N') == -1:\n",
    "            index.append(j)\n",
    "\n",
    "    Data_dict_New[file_names[i]] = Data[file_names[i]].iloc[index, :]\n",
    "    pd.DataFrame(Data_dict_New[file_names[i]]).to_csv(\"'BosT_N_removed.csv\")\n",
    "        \n",
    "    Prop[file_names[i]] = np.zeros((Data_dict_New[file_names[i]].shape[0], 3))\n",
    "    for l in range(Data_dict_New[file_names[i]].shape[0]):\n",
    "        seq = Data_dict_New[file_names[i]]['CDS_Seq'].iloc[l]\n",
    "        seq = seq.replace('T','U')\n",
    "        Prop[file_names[i]][l,0] = (seq.count('G') + seq.count('C'))/len(seq) # GC content\n",
    "        for k in np.arange(0,len(seq),3):\n",
    "            temp = Codon_Table[file_names[i]].loc[Codon_Table[file_names[i]].iloc[:, 1]==seq[k:k+3], :]\n",
    "            if temp['relative_frequency'].values <0.3:\n",
    "                Prop[file_names[i]][l,1] = Prop[file_names[i]][l,1] + 1 #rare codons \n",
    "            \n",
    "            Prop[file_names[i]][l,2] = Prop[file_names[i]][l,2] + np.log(temp['relative_frequency'].values/temp['Max_frequency'].values)\n",
    "            \n",
    "        Prop[file_names[i]][l,1] = Prop[file_names[i]][l,1]/(len(seq)/3)\n",
    "        Prop[file_names[i]][l,2] = np.exp(Prop[file_names[i]][l,2]/(len(seq)/3))\n",
    "        \n",
    "    df = pd.DataFrame(Prop[file_names[i]])\n",
    "    df.columns = ['GC','Rare','CSI']\n",
    "    df.to_excel(\"'BosT_GenomeScore.xlsx\")"
   ]
  },
  {
   "cell_type": "code",
   "execution_count": null,
   "id": "bbeb33cd",
   "metadata": {},
   "outputs": [],
   "source": [
    "df = pd.DataFrame(Prop[file_names[i]])\n",
    "df.columns = ['GC','Rare','CSI']\n",
    "df.to_excel(\"Pichia_GenomeScore.xlsx\")"
   ]
  },
  {
   "cell_type": "code",
   "execution_count": null,
   "id": "85df18db",
   "metadata": {},
   "outputs": [],
   "source": [
    "plt.boxplot(Prop[file_names[i]][:,0])"
   ]
  },
  {
   "cell_type": "code",
   "execution_count": null,
   "id": "e7fa67d9",
   "metadata": {},
   "outputs": [],
   "source": [
    "plt.boxplot(Prop[file_names[i]][:,1])"
   ]
  },
  {
   "cell_type": "code",
   "execution_count": null,
   "id": "3851cf0b",
   "metadata": {},
   "outputs": [],
   "source": [
    "plt.boxplot(Prop[file_names[i]][:,2])"
   ]
  },
  {
   "cell_type": "code",
   "execution_count": null,
   "id": "8f0b42b3",
   "metadata": {},
   "outputs": [],
   "source": [
    " np.log(temp['relative_frequency'].values/temp['Max_frequency'].values)"
   ]
  },
  {
   "cell_type": "code",
   "execution_count": null,
   "id": "8c853274",
   "metadata": {},
   "outputs": [],
   "source": [
    "temp['relative_frequency'].values"
   ]
  },
  {
   "cell_type": "code",
   "execution_count": null,
   "id": "69f778fa",
   "metadata": {},
   "outputs": [],
   "source": [
    "temp"
   ]
  },
  {
   "cell_type": "code",
   "execution_count": null,
   "id": "ac2f0ebe",
   "metadata": {},
   "outputs": [],
   "source": [
    "seq[k:k+3]"
   ]
  },
  {
   "cell_type": "code",
   "execution_count": null,
   "id": "7b698632",
   "metadata": {},
   "outputs": [],
   "source": []
  }
 ],
 "metadata": {
  "kernelspec": {
   "display_name": "Python 3 (ipykernel)",
   "language": "python",
   "name": "python3"
  },
  "language_info": {
   "codemirror_mode": {
    "name": "ipython",
    "version": 3
   },
   "file_extension": ".py",
   "mimetype": "text/x-python",
   "name": "python",
   "nbconvert_exporter": "python",
   "pygments_lexer": "ipython3",
   "version": "3.7.13"
  }
 },
 "nbformat": 4,
 "nbformat_minor": 5
}
